{
 "cells": [
  {
   "cell_type": "markdown",
   "metadata": {},
   "source": [
    "# Logic Optimizer\n",
    "This assignment has been completed in group of 3. The group members are:<br>\n",
    "Raghav Singhal - 19D070049  <br>\n",
    "Sheel Shah - 19D070052<br>\n",
    "Vipin Singh - 19D070069<br>"
   ]
  },
  {
   "cell_type": "code",
   "execution_count": 1,
   "metadata": {},
   "outputs": [],
   "source": [
    "import numpy as np"
   ]
  },
  {
   "cell_type": "code",
   "execution_count": 2,
   "metadata": {},
   "outputs": [],
   "source": [
    "def matrix_formation(function,num_literals):\n",
    "    \"\"\"Input the function as string in Sum of product forms and specify number of literals in the function\"\"\"\n",
    "    #Can only be used if we have 26 literals and first literal starts from A\n",
    "    #literal_alphabet = ['A','B','C','D','E','F','G','H','I','J','K','L','M','N','O','P','Q','R','S','T','U','V','W','X','Y','Z']\n",
    "    # Capital Letter stands for false literal\n",
    "    # Small Letter stands for true literal\n",
    "    \n",
    "    func_minterms = function.split(\"+\")\n",
    "    func_matrix = np.ones((len(func_minterms),num_literals*2),dtype = int)\n",
    "    \n",
    "    for minterm_num,minterm in enumerate(func_minterms):\n",
    "        minterm = minterm.strip()\n",
    "        minterm_literal = list(minterm)\n",
    "        for i in minterm:\n",
    "            if ord(i)>=97:\n",
    "                true_literal = False\n",
    "            else:\n",
    "                true_literal = True\n",
    "            literal_index = ord(i.upper()) - ord('A')\n",
    "             \n",
    "            if true_literal:\n",
    "                func_matrix[minterm_num][2*literal_index] = 0\n",
    "            else:\n",
    "                func_matrix[minterm_num][2*literal_index+1] = 0\n",
    "    \n",
    "    return func_matrix"
   ]
  },
  {
   "cell_type": "code",
   "execution_count": 3,
   "metadata": {},
   "outputs": [],
   "source": [
    "def cost_calculator(func_matrix,num_literals):\n",
    "    \"\"\"Calculate the cost of the function, input the circuit in matrix repersentation and specify number of literals\"\"\"\n",
    "    total_cost = 0\n",
    "    if func_matrix.size == 0:\n",
    "        return 0\n",
    "    for i in range(func_matrix.shape[0]):\n",
    "        term_literal = 0\n",
    "        for j in range(num_literals):\n",
    "            if not (func_matrix[i][2*j] == 1 and func_matrix[i][2*j+1] == 1):\n",
    "                term_literal +=1\n",
    "            else:\n",
    "                continue\n",
    "        if term_literal != 1:\n",
    "            total_cost += 2*term_literal + 2\n",
    "    if func_matrix.shape[0] != 1:\n",
    "        total_cost += 2*func_matrix.shape[0] +2\n",
    "    \n",
    "    return total_cost"
   ]
  },
  {
   "cell_type": "code",
   "execution_count": 4,
   "metadata": {},
   "outputs": [],
   "source": [
    "def calc_cofactor(func_matrix,cofactor):\n",
    "    \"\"\"Calculate cofactor of the function w.r.t to the term. Input the function in matrix representation and cofactor is the term\"\"\"\n",
    "    \n",
    "    new_matrix = np.multiply(func_matrix,cofactor)\n",
    "    void_implicant = []\n",
    "    for i in range(new_matrix.shape[0]):\n",
    "        for literal_num in range(func_matrix.shape[1]//2):\n",
    "            if new_matrix[i][2*literal_num] == 0 and new_matrix[i][2*literal_num+1] == 0:\n",
    "                void_implicant.append(i)\n",
    "    new_func = np.delete(new_matrix,void_implicant,0)\n",
    "    cofactor_complement = (cofactor + 1)%2\n",
    "    final_function = (new_func + cofactor_complement)%2 \n",
    "    return final_function              "
   ]
  },
  {
   "cell_type": "code",
   "execution_count": 5,
   "metadata": {},
   "outputs": [],
   "source": [
    "def tautology_check(func_matrix):\n",
    "    \"\"\"Checks if the given function is a tautology or not. Input the fucntion in matrix representation\"\"\"\n",
    "    if func_matrix.size == 0:\n",
    "        return False\n",
    "    matrix_shape = func_matrix.shape\n",
    "    \n",
    "    #column Sum\n",
    "    columns_sum = np.sum(func_matrix,axis = 0)\n",
    "    rows_sum = np.sum(func_matrix,axis = 1)\n",
    "    for r_sum in rows_sum:\n",
    "        if r_sum == matrix_shape[1]:\n",
    "            return True\n",
    "    \n",
    "    num_not1_col = []\n",
    "    next_literal_found = False\n",
    "    for i,col_sum in enumerate(columns_sum):\n",
    "        if col_sum == 0:\n",
    "            return False\n",
    "        elif col_sum != matrix_shape[0]:\n",
    "            num_not1_col.append(i)\n",
    "            if next_literal_found == False:\n",
    "                next_literal_for_cofactor = i//2\n",
    "                next_literal_found = True\n",
    "                \n",
    "    if len(num_not1_col) == 2 and num_not1_col[0]%2 ==0:\n",
    "        if num_not1_col[1]-num_not1_col[0] == 1:\n",
    "            return True\n",
    "    \n",
    "    cofactor = np.ones((1,func_matrix.shape[1]),dtype = int)\n",
    "    \n",
    "    #wrt to ture literal\n",
    "    cofactor[0][2*next_literal_for_cofactor] = 0\n",
    "    cofactor_func = calc_cofactor(func_matrix,cofactor)\n",
    "    if not tautology_check(cofactor_func):\n",
    "        return False\n",
    "    #wrt to false literal\n",
    "    \n",
    "    cofactor[0][2*next_literal_for_cofactor] = 1\n",
    "    cofactor[0][2*next_literal_for_cofactor+1] = 0\n",
    "    cofactor_func = calc_cofactor(func_matrix,cofactor)\n",
    "    if not tautology_check(cofactor_func):\n",
    "        return False\n",
    "    return True\n",
    "    #Column Check"
   ]
  },
  {
   "cell_type": "code",
   "execution_count": 6,
   "metadata": {},
   "outputs": [],
   "source": [
    "def containment_check(func_matrix,implicant):\n",
    "    \"\"\"Checks if the implicant is already covered by the function. Input the function in matrix representation and implicant.\"\"\"\n",
    "    if func_matrix.size == 0:\n",
    "        return False\n",
    "    cofactor_func = calc_cofactor(func_matrix,implicant)\n",
    "    return tautology_check(cofactor_func)\n",
    "    "
   ]
  },
  {
   "cell_type": "code",
   "execution_count": 7,
   "metadata": {},
   "outputs": [],
   "source": [
    "def complement_calc(func_matrix,num_literals):\n",
    "    \"\"\"Calculate the complement function of the given funtion. Input the function in matrix repersentation and number of literals in the function\"\"\"\n",
    "    if func_matrix.size == 0:\n",
    "        return np.ones((1,2*num_literals),dtype = int)\n",
    "    \n",
    "    rows_sum = np.sum(func_matrix,axis = 1)\n",
    "    for r_sum in rows_sum:\n",
    "        if r_sum == func_matrix.shape[1]:\n",
    "            return np.array([])\n",
    "    \n",
    "    if func_matrix.shape[0] == 1:\n",
    "        #erro here\n",
    "        new_matrix = np.array([])\n",
    "        for i in range(func_matrix.shape[1]//2):\n",
    "            temp = np.ones((1,func_matrix.shape[1]),dtype = int)\n",
    "            #print(i)\n",
    "            if func_matrix[0][2*i] == 1 and func_matrix[0][2*i+1] == 1:\n",
    "                continue\n",
    "            else:\n",
    "                \n",
    "                temp[0][2*i] = (func_matrix[0][2*i]+1)%2\n",
    "                temp[0][2*i+1] = (func_matrix[0][2*i+1]+1)%2\n",
    "                if new_matrix.size ==0:\n",
    "                    new_matrix = temp\n",
    "                else:\n",
    "                    new_matrix = np.concatenate((new_matrix,temp))\n",
    "\n",
    "        return new_matrix\n",
    "    \n",
    "    columns_sum = np.sum(func_matrix,axis = 0)\n",
    "    col_check = True\n",
    "    next_literal_found = False\n",
    "    num_not1_col = []\n",
    "    for i,col_sum in enumerate(columns_sum):\n",
    "        if col_sum == 0:\n",
    "            col_check = False\n",
    "            if not next_literal_found:\n",
    "                next_literal_found = True\n",
    "                next_literal = i//2\n",
    "            break\n",
    "        elif col_sum != func_matrix.shape[0]:\n",
    "            num_not1_col.append(i)\n",
    "            if not next_literal_found:\n",
    "                next_literal_found = True\n",
    "                next_literal = i//2\n",
    "                            \n",
    "    if len(num_not1_col) == 2 and col_check and num_not1_col[0]%2 ==0:\n",
    "        if num_not1_col[1]-num_not1_col[0] == 1:\n",
    "            return np.array([])\n",
    "    \n",
    "    cofactor = np.ones((1,func_matrix.shape[1]),dtype = int)\n",
    "    cofactor[0][2*next_literal] = 0\n",
    "    cofactor_func_true = calc_cofactor(func_matrix,cofactor)\n",
    "    #print(\"True Matrix \\n\",cofactor_func_true,\"wrt:\", next_literal)\n",
    "    cofactor_complement_true =  complement_calc(cofactor_func_true,num_literals)\n",
    "    #print(\"Wrt:\", next_literal,\"True \\n\",cofactor_complement_true)\n",
    "    if cofactor_complement_true.size != 0:\n",
    "        true_cofactor_comp = np.multiply(cofactor_complement_true,cofactor)\n",
    "    \n",
    "    cofactor[0][2*next_literal] = 1\n",
    "    cofactor[0][2*next_literal+1] = 0\n",
    "    \n",
    "    cofactor_func_false = calc_cofactor(func_matrix,cofactor)\n",
    "    #print(cofactor_func_false,\"TP\")\n",
    "    cofactor_complement_false =  complement_calc(cofactor_func_false,num_literals)\n",
    "    #print(\"False Matrix \\n\",cofactor_func_true,\"wrt:\", next_literal)\n",
    "    #print(\"Wrt:\", next_literal,\"False \\n\",cofactor_complement_false)\n",
    "    if cofactor_complement_false.size != 0:\n",
    "        false_cofactor_comp = np.multiply(cofactor_complement_false,cofactor)\n",
    "        if cofactor_complement_true.size != 0:\n",
    "            return np.concatenate((false_cofactor_comp,true_cofactor_comp))\n",
    "        else:\n",
    "            return false_cofactor_comp\n",
    "            \n",
    "    elif cofactor_complement_true.size != 0:\n",
    "        return true_cofactor_comp\n",
    "    else:\n",
    "        return np.array([])\n",
    "    \n",
    "    "
   ]
  },
  {
   "cell_type": "code",
   "execution_count": 8,
   "metadata": {},
   "outputs": [],
   "source": [
    "def intersection_calculator(func_matrix,cube):\n",
    "    \"\"\"Returns the intersection of the function and the cube. Input the function and cube in matrix repersentation\"\"\"\n",
    "    if func_matrix.size == 0 or cube.size == 0:\n",
    "        return np.array([])\n",
    "    inter_matrix = np.multiply(func_matrix,cube)\n",
    "    \n",
    "    del_row = []\n",
    "    for i in range(func_matrix.shape[0]):\n",
    "        for j in range(func_matrix.shape[1]//2):\n",
    "            if inter_matrix[i][2*j]==0 and inter_matrix[i][2*j+1]==0:\n",
    "                del_row.append(i)\n",
    "    final_matrix = np.delete(inter_matrix,del_row,0)\n",
    "    return final_matrix"
   ]
  },
  {
   "cell_type": "code",
   "execution_count": 9,
   "metadata": {},
   "outputs": [],
   "source": [
    "def expand(onset_matrix,offset_matrix,num_literals):\n",
    "    \"\"\"Implement the expand. Input the onset, offset and number of literal of the funciton\"\"\"\n",
    "    #row_heuristic\n",
    "    columns_weights = np.sum(onset_matrix,axis = 0)\n",
    "    weighted_onset = np.multiply(onset_matrix,columns_weights)\n",
    "    weighted_sum = np.sum(weighted_onset,axis = 1)\n",
    "    cube_order = np.argsort(weighted_sum)\n",
    "    #Now we have the order to expand\n",
    "    \n",
    "    cube_included = np.zeros(onset_matrix.shape[0],dtype = int)\n",
    "    new_matrix_cube = np.array([])\n",
    "\n",
    "\n",
    "    for cube_index in cube_order:\n",
    "        #print(cube_index)\n",
    "        if cube_included[cube_index] == 1:\n",
    "            continue\n",
    "        \n",
    "        cube = onset_matrix[cube_index][:]\n",
    "        cube_included[cube_index] = 1\n",
    "        for i in range(num_literals):\n",
    "            new_cube = np.copy(cube)\n",
    "            new_cube[2*i] = 1\n",
    "            new_cube[2*i+1] = 1\n",
    "            if intersection_calculator(offset_matrix,new_cube).size == 0:\n",
    "                cube = np.copy(new_cube)\n",
    "\n",
    "        if new_matrix_cube.size ==0:\n",
    "            new_matrix_cube = cube.reshape((1,-1))\n",
    "        else:\n",
    "            new_matrix_cube = np.concatenate((new_matrix_cube,cube.reshape((1,-1))))\n",
    "    \n",
    "        for i in range(onset_matrix.shape[0]):\n",
    "            if cube_included[i] == 1:\n",
    "                continue\n",
    "            else:\n",
    "                if containment_check(np.copy(cube).reshape(1,-1),onset_matrix[i][:]):\n",
    "                    cube_included[i] = 1\n",
    "    return new_matrix_cube"
   ]
  },
  {
   "cell_type": "code",
   "execution_count": 10,
   "metadata": {},
   "outputs": [],
   "source": [
    "def reduce(onset_matrix,dcare_matrix,num_literals):\n",
    "    \"\"\"Implement the reduce. Input the onset, offset and number of literal of the funciton\"\"\"\n",
    "    #row_heuristic\n",
    "    columns_weights = np.sum(onset_matrix,axis = 0)\n",
    "    weighted_onset = np.multiply(onset_matrix,columns_weights)\n",
    "    weighted_sum = np.sum(weighted_onset,axis = 1)\n",
    "    cube_order = np.argsort(weighted_sum*-1)\n",
    "    \n",
    "    for cube_index in range(cube_order.size):\n",
    "        cube = onset_matrix[cube_order[cube_index]][:]\n",
    "        #Reduce Algo\n",
    "        independent_literal = []\n",
    "        for i in range(num_literals):\n",
    "            if cube[2*i] == 1 and cube[2*i+1] == 1:\n",
    "                independent_literal.append(i)\n",
    "        for i in independent_literal:\n",
    "            first_cube = np.copy(cube)\n",
    "            first_cube[2*i] = 1\n",
    "            first_cube[2*i+1] = 0\n",
    "            \n",
    "            second_cube= np.copy(cube)\n",
    "            second_cube[2*i] = 0\n",
    "            second_cube[2*i+1] = 1\n",
    "            \n",
    "            temp_cover = np.delete(onset_matrix,cube_index,0)\n",
    "            \n",
    "            #Second cube already Covered\n",
    "            if containment_check(temp_cover,second_cube) or containment_check(dcare_matrix,second_cube):\n",
    "                #print(\"First_cube\",first_cube)\n",
    "                cube = first_cube\n",
    "            elif containment_check(temp_cover,first_cube) or containment_check(dcare_matrix,first_cube):\n",
    "                cube = second_cube\n",
    "                #print(\"Second cube\",second_cube)\n",
    "            else:\n",
    "                #Cannot be reduce along this Literal\n",
    "                continue\n",
    "        onset_matrix[cube_order[cube_index]][:] = np.copy(cube)\n",
    "        \n",
    "    return onset_matrix"
   ]
  },
  {
   "cell_type": "code",
   "execution_count": 11,
   "metadata": {},
   "outputs": [],
   "source": [
    "def irredundant(onset_matrix,dcare_matrix):\n",
    "    \"\"\"Implement the irredundant. Input the onset and offset of the funciton\"\"\"\n",
    "    redundant_cube = []\n",
    "    for i in range(onset_matrix.shape[0]):\n",
    "        cube = onset_matrix[i][:]\n",
    "        temp_cover = np.delete(onset_matrix,i,0)\n",
    "        if containment_check(temp_cover,cube) or containment_check(dcare_matrix,cube):\n",
    "            redundant_cube.append(i)\n",
    "    if not redundant_cube:\n",
    "        return onset_matrix\n",
    "\n",
    "    return np.delete(onset_matrix,redundant_cube,0)"
   ]
  },
  {
   "cell_type": "code",
   "execution_count": 12,
   "metadata": {},
   "outputs": [],
   "source": [
    "def essential(func_matrix):\n",
    "    \"\"\"Calculate the essential implicants of the function. Input the function in matrix representation\"\"\"\n",
    "    not_essential = []\n",
    "    essential = []\n",
    "    for i in range(func_matrix.shape[0]):\n",
    "        cube = func_matrix[i][:]\n",
    "        temp_function = np.delete(func_matrix, i, 0)\n",
    "        if containment_check(temp_function,cube):\n",
    "            not_essential.append(i)\n",
    "        else:\n",
    "            essential.append(i)\n",
    "    essential_matrix = np.delete(func_matrix, not_essential, 0)\n",
    "    non_essential_matrix = np.delete(func_matrix, essential, 0)\n",
    "\n",
    "    return essential_matrix,non_essential_matrix"
   ]
  },
  {
   "cell_type": "code",
   "execution_count": 13,
   "metadata": {},
   "outputs": [],
   "source": [
    "def logic_optimizer(onset_matrix,num_literals,dcare_matrix = np.array([])):\n",
    "    \"\"\"Two level optimizater. Input the onset_matrix,num_literals and don't care matrix for the function\"\"\"\n",
    "    if onset_matrix.size == 0:\n",
    "        return 0\n",
    "    elif dcare_matrix.size == 0:\n",
    "        not_offset = onset_matrix\n",
    "    else:\n",
    "        not_offset = np.concatenate((onset_matrix,dcare_matrix))\n",
    "        \n",
    "    offset_matrix = complement_calc(not_offset,num_literals)\n",
    "    current_optimized_matrix = np.copy(onset_matrix)\n",
    "    \n",
    "    expand_matrix_pre = expand(np.copy(onset_matrix),offset_matrix,num_literals)\n",
    "    irredundant_matrix_pre = irredundant(expand_matrix_pre,dcare_matrix)\n",
    "    \n",
    "    essential_prime,func_minus_essential = essential(irredundant_matrix_pre)\n",
    "    #print(essential_prime)\n",
    "    if dcare_matrix.size == 0:\n",
    "        dont_care = essential_prime\n",
    "    elif essential_prime.size == 0:\n",
    "        dont_care = dcare_matrix\n",
    "    else:\n",
    "        dont_care = np.concatenate((essential_prime,dcare_matrix))\n",
    "    \n",
    "    #essential calculator\n",
    "    \n",
    "    #Udating dont care\n",
    "    current_optimized_matrix = np.copy(func_minus_essential)\n",
    "    previous_cost = cost_calculator(current_optimized_matrix,num_literals)\n",
    "\n",
    "    cost_tracker = []\n",
    "    cost_tracker.append(previous_cost)\n",
    "    \n",
    "    while(True):\n",
    "        #print(cost_tracker)\n",
    "        #print(current_optimized_matrix,\"Before\")    \n",
    "        reduced_matrix = reduce(np.copy(current_optimized_matrix),dont_care,num_literals)\n",
    "        #print(current_optimized_matrix,\"After\")\n",
    "        #print(reduced_matrix,\"Before\")\n",
    "        expand_matrix = expand(reduced_matrix,offset_matrix,num_literals)\n",
    "        #print(reduced_matrix,\"After\")\n",
    "        #print(expand_matrix,\"before\")\n",
    "        irredundant_matrix = irredundant(expand_matrix,dont_care)\n",
    "        #print(expand_matrix,\"After\")\n",
    "        current_cost = cost_calculator(irredundant_matrix,num_literals)\n",
    "        cost_tracker.append(current_cost)\n",
    "        \n",
    "        if current_cost >= previous_cost:\n",
    "            break\n",
    "        elif current_cost == 0:\n",
    "            current_optimized_matrix = np.copy(irredundant_matrix)\n",
    "            break\n",
    "        else:\n",
    "\n",
    "            previous_cost = current_cost\n",
    "            current_optimized_matrix = np.copy(irredundant_matrix)\n",
    "        \n",
    "    return np.concatenate((current_optimized_matrix,essential_prime))\n"
   ]
  },
  {
   "cell_type": "markdown",
   "metadata": {},
   "source": [
    "## Logic Optimization for function with no Don't Care Cube\n",
    "For implementing the logic optimization for function without a Don't Care cube, we can input the function as a string in the format specified below to the function optimize along with numer of literal in the function.\n",
    "### String Format\n",
    "The function can have upto 26 letters represented by english letter. A capital english letter is used for true literal and small letter is used for false literal.<br> For example <br>\n",
    "01 = \"aB\"<br>\n",
    "00 = \"ab\"<br>\n",
    "10 = \"Ab\"<br>\n",
    "11 = \"AB\"<br>\n",
    "For input as sum of product, use the above rule and put a \"+\" sign in between products. <br>\n",
    "For example <br>\n",
    "00 + 11 can be represented as \"ab + AB\".<br>\n",
    "Note: The spacing need not be considered any valid spacing is allowed.<br>"
   ]
  },
  {
   "cell_type": "code",
   "execution_count": 14,
   "metadata": {},
   "outputs": [],
   "source": [
    "def optimize(function,num_literals,dont_care = np.array([])):\n",
    "    \"\"\"Optimize a function, Input takes two string, one for onset other for don't care set can be in form of string with capital letter impying true literal and small leter impying false literal\"\"\"\n",
    "    matrix_form_func = matrix_formation(function,num_literals)\n",
    "    if type(dont_care) == str:\n",
    "        matrix_form_dont_care = matrix_formation(dont_care,num_literals)\n",
    "    else:\n",
    "        matrix_form_dont_care = dont_care\n",
    "    return logic_optimizer(matrix_form_func,num_literals,matrix_form_dont_care)"
   ]
  },
  {
   "cell_type": "code",
   "execution_count": 15,
   "metadata": {},
   "outputs": [
    {
     "name": "stdout",
     "output_type": "stream",
     "text": [
      "[[1 1 0 1 1 1 1 1]\n",
      " [1 1 1 1 0 1 1 1]\n",
      " [1 0 1 1 1 1 1 1]]\n"
     ]
    }
   ],
   "source": [
    "#Example 1\n",
    "f1 = \"AB + Cd + CD +a\"\n",
    "\n",
    "print(optimize(f1,4))"
   ]
  },
  {
   "cell_type": "code",
   "execution_count": 16,
   "metadata": {},
   "outputs": [
    {
     "name": "stdout",
     "output_type": "stream",
     "text": [
      "[[1 1 0 1 1 1 1 1]\n",
      " [1 1 1 1 0 1 1 1]\n",
      " [1 0 1 1 1 1 1 1]]\n"
     ]
    }
   ],
   "source": [
    "#Example 2\n",
    "f2 = \"AB + Cd + CD + a\"\n",
    "print(optimize(f2,4))"
   ]
  },
  {
   "cell_type": "code",
   "execution_count": 17,
   "metadata": {},
   "outputs": [
    {
     "name": "stdout",
     "output_type": "stream",
     "text": [
      "[[1 1 1 1]]\n"
     ]
    }
   ],
   "source": [
    "#Example 3\n",
    "f3 = \"A + B + ab\"\n",
    "print(optimize(f3,2))"
   ]
  },
  {
   "cell_type": "code",
   "execution_count": 18,
   "metadata": {},
   "outputs": [
    {
     "name": "stdout",
     "output_type": "stream",
     "text": [
      "[[0 1 0 1 1 1]\n",
      " [1 1 1 1 0 1]]\n"
     ]
    }
   ],
   "source": [
    "#Example 4\n",
    "f4 = \"ABC + ABc + C\"\n",
    "print(optimize(f4,3))"
   ]
  },
  {
   "cell_type": "code",
   "execution_count": 19,
   "metadata": {},
   "outputs": [
    {
     "name": "stdout",
     "output_type": "stream",
     "text": [
      "[[1 1 1 1]]\n"
     ]
    }
   ],
   "source": [
    "#Example 5\n",
    "f5 = \"A +B\"\n",
    "fd5 = \"ab\"\n",
    "print(optimize(f5,2,fd5))"
   ]
  },
  {
   "cell_type": "code",
   "execution_count": 20,
   "metadata": {},
   "outputs": [
    {
     "name": "stdout",
     "output_type": "stream",
     "text": [
      "[[1 1 1 1 1 0]\n",
      " [1 0 1 0 1 1]]\n"
     ]
    }
   ],
   "source": [
    "#Example 6\n",
    "f6 = \"abc + Abc +aBc + abC\"\n",
    "fd6 = \"ABc\"\n",
    "print(optimize(f6,3,fd6))"
   ]
  },
  {
   "cell_type": "code",
   "execution_count": 22,
   "metadata": {},
   "outputs": [
    {
     "name": "stdout",
     "output_type": "stream",
     "text": [
      "[[1 1 1 0 1 0 1 0 1 0]\n",
      " [1 1 0 1 0 1 0 1 1 1]\n",
      " [1 0 1 0 0 1 1 1 0 1]\n",
      " [1 0 1 1 0 1 0 1 1 1]]\n"
     ]
    }
   ],
   "source": [
    "#Example 8\n",
    "f7 = \"abcde + abCdE + abCDe + abCDE + aBCDe + aBCDE + Abcde +ABCDE\"\n",
    "fd7 = \"aBcde + ABCDe + ABCdE + ABCde\"\n",
    "o7 = optimize(f7,5,fd7)\n",
    "print(irredundant(o7,np.array([])))"
   ]
  }
 ],
 "metadata": {
  "kernelspec": {
   "display_name": "Python 3",
   "language": "python",
   "name": "python3"
  },
  "language_info": {
   "codemirror_mode": {
    "name": "ipython",
    "version": 3
   },
   "file_extension": ".py",
   "mimetype": "text/x-python",
   "name": "python",
   "nbconvert_exporter": "python",
   "pygments_lexer": "ipython3",
   "version": "3.8.3"
  }
 },
 "nbformat": 4,
 "nbformat_minor": 4
}
